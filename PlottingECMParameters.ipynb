{
 "cells": [
  {
   "cell_type": "code",
   "execution_count": null,
   "id": "c34e9c25",
   "metadata": {},
   "outputs": [],
   "source": [
    "import pandas as pd\n",
    "import matplotlib.pyplot as plt\n",
    "import os\n",
    "import numpy as np\n",
    "\n",
    "# Load the dataset\n",
    "file_path = './EIS_Fitting_Results.csv'\n",
    "file_path_new = './EIS_Fitting_Results_new.csv'\n",
    "df = pd.read_csv(file_path)\n",
    "df_new = pd.read_csv(file_path_new)\n",
    "# Rename columns for better readability\n",
    "df.rename(columns={\n",
    "    'R0': 'Bulk Resistance',\n",
    "    'R1': 'Charge Transfer Resistance',\n",
    "    'W1': 'Warburg Diffusion',\n",
    "    'CPE1_0': 'Pseudo-Capacitance',\n",
    "    'CPE1_1': 'Phase Exponent'\n",
    "}, inplace=True)\n",
    "df_new.rename(columns={\n",
    "    'R0': 'Bulk Resistance',\n",
    "    'R1': 'Charge Transfer Resistance',\n",
    "    'W1': 'Warburg Diffusion',\n",
    "    'CPE1_0': 'Pseudo-Capacitance',\n",
    "    'CPE1_1': 'Phase Exponent'\n",
    "}, inplace=True)"
   ]
  },
  {
   "cell_type": "code",
   "execution_count": null,
   "id": "385f11c5",
   "metadata": {},
   "outputs": [],
   "source": [
    "# List of fitting parameters to plot\n",
    "fitting_parameters = ['Bulk Resistance', 'Charge Transfer Resistance', 'Warburg Diffusion', 'Pseudo-Capacitance', 'Phase Exponent']\n",
    "\n",
    "# Create a directory to save the plots\n",
    "output_dir = 'EIS_Fitting_Plots'\n",
    "os.makedirs(output_dir, exist_ok=True)"
   ]
  },
  {
   "cell_type": "code",
   "execution_count": null,
   "id": "75c15f8f",
   "metadata": {},
   "outputs": [],
   "source": [
    "path_new = os.path.join(output_dir, 'EIS_Fitting_Plots_comparison')\n",
    "if not os.path.exists(path_new):\n",
    "    os.makedirs(path_new)"
   ]
  },
  {
   "cell_type": "code",
   "execution_count": null,
   "id": "4e22124c",
   "metadata": {},
   "outputs": [],
   "source": [
    "# Loop through each fitting parameter\n",
    "for param in fitting_parameters:\n",
    "    # Loop through each unique SoC\n",
    "    for soc in df['SoC'].unique():\n",
    "        # Filter the data for the current SoC\n",
    "        soc_data = df[df['SoC'] == soc]\n",
    "\n",
    "        # Plot the parameter vs Cycle number\n",
    "        plt.figure(figsize=(10, 6))\n",
    "        plt.plot(soc_data['Cycle'], soc_data[param], marker='o', linestyle='-', linewidth=2.5, label=f'SoC {soc}%')\n",
    "\n",
    "        # Annotate the SoH for each cycle\n",
    "        for i, row in soc_data.iterrows():\n",
    "            plt.text(row['Cycle'], row[param], f\"{row['SoH']}\", fontsize=10, ha='right', va='bottom')\n",
    "\n",
    "        # Set plot labels and title\n",
    "        plt.xlabel('Cycle Number', fontsize=14, fontweight='bold')\n",
    "        plt.ylabel(param, fontsize=14, fontweight='bold')\n",
    "        plt.title(f'{param} vs Cycle Number (SoC {soc}%)', fontsize=16, fontweight='bold')\n",
    "        plt.grid(True)\n",
    "        plt.legend(fontsize=12)\n",
    "        plt.tight_layout()\n",
    "\n",
    "        # Save the plot\n",
    "        plot_filename = f\"{output_dir}/{param.replace(' ', '_')}_vs_Cycle_SoC_{soc}.png\"\n",
    "        plt.savefig(plot_filename)\n",
    "        plt.close()\n",
    "\n",
    "print(f\"Plots saved in the directory: {output_dir}\")"
   ]
  },
  {
   "cell_type": "markdown",
   "id": "a964ae86",
   "metadata": {},
   "source": [
    "# Difference Testing"
   ]
  },
  {
   "cell_type": "code",
   "execution_count": null,
   "id": "bb4c4962",
   "metadata": {},
   "outputs": [],
   "source": [
    "# Compare the 2 EIS graphs on the same plot for every SoC\n",
    "\n",
    "for param in fitting_parameters:\n",
    "    for soc in df['SoC'].unique():\n",
    "        # Filter the data for the current SoC in both dataframes\n",
    "        soc_data_old = df[df['SoC'] == soc]\n",
    "        soc_data_new = df_new[df_new['SoC'] == soc]\n",
    "\n",
    "        plt.figure(figsize=(10, 6))\n",
    "        plt.plot(soc_data_old['Cycle'], soc_data_old[param], marker='o', linestyle='-', linewidth=2.5, label=f'Old - SoC {soc}%')\n",
    "        plt.plot(soc_data_new['Cycle'], soc_data_new[param], marker='s', linestyle='--', linewidth=2.5, label=f'New - SoC {soc}%')\n",
    "\n",
    "        # Annotate the SoH for each cycle (optional, for old data only)\n",
    "        for i, row in soc_data_old.iterrows():\n",
    "            plt.text(row['Cycle'], row[param], f\"{row['SoH']}\", fontsize=10, ha='right', va='bottom')\n",
    "\n",
    "        plt.xlabel('Cycle Number', fontsize=14, fontweight='bold')\n",
    "        plt.ylabel(param, fontsize=14, fontweight='bold')\n",
    "        plt.title(f'{param} vs Cycle Number Comparison (SoC {soc}%)', fontsize=16, fontweight='bold')\n",
    "        plt.grid(True)\n",
    "        plt.legend(fontsize=12)\n",
    "        plt.tight_layout()\n",
    "\n",
    "        # Save the plot\n",
    "        plot_filename = f\"{path_new}/{param.replace(' ', '_')}_vs_Cycle_SoC_{soc}_comparison.png\"\n",
    "        plt.savefig(plot_filename)\n",
    "        plt.close()\n",
    "\n",
    "print(f\"Comparison plots saved in the directory: {path_new}\")"
   ]
  },
  {
   "cell_type": "markdown",
   "id": "413e352d",
   "metadata": {},
   "source": [
    "## % Change Analysis"
   ]
  },
  {
   "cell_type": "code",
   "execution_count": 13,
   "id": "b585122c",
   "metadata": {},
   "outputs": [
    {
     "name": "stdout",
     "output_type": "stream",
     "text": [
      "Percentage change plots saved in the directory: EIS_Fitting_Plots\n"
     ]
    }
   ],
   "source": [
    "# Plot % change for each parameter and SoC\n",
    "path_new = os.path.join(output_dir, 'EIS_Fitting_Plots_pct_change')\n",
    "if not os.path.exists(path_new):\n",
    "    os.makedirs(path_new)\n",
    "for param in fitting_parameters:\n",
    "    plt.figure(figsize=(10, 6))\n",
    "    for soc in df['SoC'].unique():\n",
    "        soc_data = df[df['SoC'] == soc].sort_values('Cycle')\n",
    "        # Calculate % change\n",
    "        pct_change = soc_data[param].pct_change() * 100\n",
    "        plt.plot(soc_data['Cycle'], pct_change, marker='o', linestyle='-', label=f'SoC {soc}%')\n",
    "    plt.xlabel('Cycle Number', fontsize=14, fontweight='bold')\n",
    "    plt.ylabel(f'% Change in {param}', fontsize=14, fontweight='bold')\n",
    "    plt.title(f'Percentage Change in {param} per Cycle for All SoC', fontsize=16, fontweight='bold')\n",
    "    plt.grid(True)\n",
    "    plt.legend(fontsize=12)\n",
    "    plt.tight_layout()\n",
    "    # Save the plot\n",
    "    plot_filename = f\"{path_new}/{param.replace(' ', '_')}_pct_change_vs_Cycle_All_SoC.png\"\n",
    "    plt.savefig(plot_filename)\n",
    "    plt.close()\n",
    "\n",
    "print(\"Percentage change plots saved in the directory:\", output_dir)"
   ]
  }
 ],
 "metadata": {
  "kernelspec": {
   "display_name": "Python 3",
   "language": "python",
   "name": "python3"
  },
  "language_info": {
   "codemirror_mode": {
    "name": "ipython",
    "version": 3
   },
   "file_extension": ".py",
   "mimetype": "text/x-python",
   "name": "python",
   "nbconvert_exporter": "python",
   "pygments_lexer": "ipython3",
   "version": "3.9.6"
  }
 },
 "nbformat": 4,
 "nbformat_minor": 5
}
